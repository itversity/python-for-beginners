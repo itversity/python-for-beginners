{
 "cells": [
  {
   "attachments": {},
   "cell_type": "markdown",
   "metadata": {},
   "source": [
    "* Develop query to get data from Mongodb\n",
    "* Set Environment Variable for Sendgrid Key\n",
    "* Develop Python core logic to get data from Mongodb\n",
    "* Develop core logic to send email\n",
    "* Invoke the function to send email\n",
    "* Validate the emails sent\n",
    "* Review Exception Handling\n",
    "* Review Application Logs\n",
    "* Exercise and Solution"
   ]
  },
  {
   "cell_type": "code",
   "execution_count": null,
   "metadata": {},
   "outputs": [],
   "source": [
    "import pymongo\n",
    "client = pymongo.MongoClient('localhost', 27017)\n",
    "db = client['mailer']\n",
    "coll = db['mails']"
   ]
  },
  {
   "cell_type": "code",
   "execution_count": null,
   "metadata": {},
   "outputs": [],
   "source": [
    "coll.find_one({})"
   ]
  },
  {
   "cell_type": "code",
   "execution_count": null,
   "metadata": {},
   "outputs": [],
   "source": [
    "for rec in coll.find({'month': '05', 'day': '18'}):\n",
    "    print(rec['m'])"
   ]
  },
  {
   "cell_type": "code",
   "execution_count": null,
   "metadata": {},
   "outputs": [],
   "source": [
    "# Set Environment Variable for Sendgrid Key\n",
    "\n",
    "import os\n",
    "\n",
    "sg_api_key = input('Enter Sendgrid API Key: ')\n",
    "os.environ.update({'SG_API_KEY': sg_api_key})"
   ]
  },
  {
   "cell_type": "code",
   "execution_count": null,
   "metadata": {},
   "outputs": [],
   "source": [
    "os.environ.get('SG_API_KEY')"
   ]
  },
  {
   "cell_type": "code",
   "execution_count": null,
   "metadata": {},
   "outputs": [],
   "source": [
    "# Develop core logic to send email\n",
    "\n",
    "import os\n",
    "from sendgrid import SendGridAPIClient\n",
    "from sendgrid.helpers.mail import Mail\n",
    "import ssl\n",
    "\n",
    "def send_mail(rec):\n",
    "    ssl._create_default_https_context = ssl._create_unverified_context\n",
    "    sender_email = \"dgadiraju@gmail.com\"\n",
    "    receiver_email = rec['m']\n",
    "    subject = f\"Happy {rec['e']}\"\n",
    "    message = f\"Coupon enclosed to make your {rec['e']} memorable\"\n",
    "    mail = Mail(\n",
    "        from_email=sender_email,\n",
    "        to_emails=receiver_email,\n",
    "        subject=subject,\n",
    "        html_content=message\n",
    "    )\n",
    "    sg_client = SendGridAPIClient(api_key=os.environ.get('SG_API_KEY'))\n",
    "    response = sg_client.send(mail)\n",
    "    return response"
   ]
  },
  {
   "cell_type": "code",
   "execution_count": null,
   "metadata": {},
   "outputs": [],
   "source": [
    "# Invoke the function to send email\n",
    "\n",
    "rec = {\n",
    "    'm': 'dgadiraju@itversity.com',\n",
    "    'e': 'Birth Day'\n",
    "}\n",
    "send_mail(rec)"
   ]
  },
  {
   "cell_type": "code",
   "execution_count": null,
   "metadata": {},
   "outputs": [],
   "source": [
    "rec = coll.find_one({})"
   ]
  },
  {
   "cell_type": "code",
   "execution_count": null,
   "metadata": {},
   "outputs": [],
   "source": [
    "rec"
   ]
  },
  {
   "cell_type": "code",
   "execution_count": null,
   "metadata": {},
   "outputs": [],
   "source": [
    "send_mail(rec)"
   ]
  },
  {
   "cell_type": "code",
   "execution_count": null,
   "metadata": {},
   "outputs": [],
   "source": [
    "response = send_mail(rec)"
   ]
  },
  {
   "cell_type": "code",
   "execution_count": null,
   "metadata": {},
   "outputs": [],
   "source": [
    "response.status_code"
   ]
  },
  {
   "cell_type": "code",
   "execution_count": null,
   "metadata": {},
   "outputs": [],
   "source": [
    "# Validate the emails sent"
   ]
  },
  {
   "cell_type": "code",
   "execution_count": null,
   "metadata": {},
   "outputs": [],
   "source": [
    "# Review Exception Handling\n",
    "\n",
    "import os\n",
    "import logging\n",
    "import ssl\n",
    "from sendgrid import SendGridAPIClient\n",
    "from sendgrid.helpers.mail import Mail\n",
    "\n",
    "def send_mail(rec):\n",
    "    logging.basicConfig(level=logging.INFO)\n",
    "    ssl._create_default_https_context = ssl._create_unverified_context\n",
    "    sender_email = \"dgadiraju@gmail.com\"\n",
    "    receiver_email = rec['m']\n",
    "    subject = f\"Happy {rec['e']}\"\n",
    "    message = f\"Coupon enclosed to make your {rec['e']} memorable\"\n",
    "    message = Mail(\n",
    "        from_email=sender_email,\n",
    "        to_emails=receiver_email,\n",
    "        subject=subject,\n",
    "        html_content=message\n",
    "    )\n",
    "    sg_client = SendGridAPIClient(api_key=os.environ.get('SG_API_KEY'))\n",
    "    try:\n",
    "        response = sg_client.send(message)\n",
    "        logging.info(response.status_code)\n",
    "        return response\n",
    "    except Exception as e:\n",
    "        logging.error(e.message)\n",
    "        raise"
   ]
  },
  {
   "cell_type": "code",
   "execution_count": null,
   "metadata": {},
   "outputs": [],
   "source": [
    "rec = {\n",
    "    'm': 'dgadiraju@itversity.com',\n",
    "    'e': 'Birth Day'\n",
    "}\n",
    "send_mail(rec)"
   ]
  },
  {
   "cell_type": "code",
   "execution_count": null,
   "metadata": {},
   "outputs": [],
   "source": [
    "# Review Application Logs"
   ]
  },
  {
   "attachments": {},
   "cell_type": "markdown",
   "metadata": {},
   "source": [
    "* Exercise - Send emails using sendgrid and pymongo\n",
    "\n",
    "1. Read the documents from Mongo DB\n",
    "2. Iterate through the documents and send email using `send_mail` function\n",
    "3. Review the logs"
   ]
  },
  {
   "cell_type": "code",
   "execution_count": null,
   "metadata": {},
   "outputs": [],
   "source": [
    "import pymongo\n",
    "\n",
    "\n",
    "def get_docs():\n",
    "    client = pymongo.MongoClient('localhost', 27017)\n",
    "    db = client['mailer']\n",
    "    coll = db['mails']\n",
    "    return coll.find({})"
   ]
  },
  {
   "cell_type": "code",
   "execution_count": null,
   "metadata": {},
   "outputs": [],
   "source": [
    "# Review Exception Handling\n",
    "\n",
    "import os\n",
    "import logging\n",
    "import ssl\n",
    "from sendgrid import SendGridAPIClient\n",
    "from sendgrid.helpers.mail import Mail\n",
    "\n",
    "def send_mail(rec):\n",
    "    logging.basicConfig(level=logging.INFO)\n",
    "    ssl._create_default_https_context = ssl._create_unverified_context\n",
    "    sender_email = \"dgadiraju@gmail.com\"\n",
    "    receiver_email = rec['m']\n",
    "    subject = f\"Happy {rec['e']}\"\n",
    "    message = f\"Coupon enclosed to make your {rec['e']} memorable\"\n",
    "    message = Mail(\n",
    "        from_email=sender_email,\n",
    "        to_emails=receiver_email,\n",
    "        subject=subject,\n",
    "        html_content=message\n",
    "    )\n",
    "    sg_client = SendGridAPIClient(api_key=os.environ.get('SG_API_KEY'))\n",
    "    try:\n",
    "        response = sg_client.send(message)\n",
    "        logging.info(response.status_code)\n",
    "        return response\n",
    "    except Exception as e:\n",
    "        logging.error(e.message)\n",
    "        raise"
   ]
  },
  {
   "cell_type": "code",
   "execution_count": null,
   "metadata": {},
   "outputs": [],
   "source": [
    "docs = get_docs()\n",
    "\n",
    "for rec in docs:\n",
    "    send_mail(rec)"
   ]
  },
  {
   "cell_type": "code",
   "execution_count": null,
   "metadata": {},
   "outputs": [],
   "source": []
  }
 ],
 "metadata": {
  "kernelspec": {
   "display_name": "Python 3",
   "language": "python",
   "name": "python3"
  },
  "language_info": {
   "codemirror_mode": {
    "name": "ipython",
    "version": 3
   },
   "file_extension": ".py",
   "mimetype": "text/x-python",
   "name": "python",
   "nbconvert_exporter": "python",
   "pygments_lexer": "ipython3",
   "version": "3.11.2"
  },
  "orig_nbformat": 4
 },
 "nbformat": 4,
 "nbformat_minor": 2
}
