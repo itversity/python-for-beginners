{
 "cells": [
  {
   "cell_type": "markdown",
   "metadata": {},
   "source": [
    "* Develop logic to check whether the input value is integer or not.\n",
    "* Develop logic to checks whether an integer is even or odd.\n",
    "* Check if string is palindrome or not.\n",
    "* Ternary Operator or single like if else\n",
    "* Exercise - Conditionals"
   ]
  },
  {
   "cell_type": "code",
   "execution_count": 1,
   "metadata": {},
   "outputs": [],
   "source": [
    "# Develop logic to check whether the input value is integer or not.\n",
    "n = input('Enter an integer: ')"
   ]
  },
  {
   "cell_type": "code",
   "execution_count": null,
   "metadata": {},
   "outputs": [],
   "source": [
    "if n.isdigit():\n",
    "    print(f'{n} is an integer')\n",
    "else:\n",
    "    print(f'{n} is of type {type(n)}')"
   ]
  },
  {
   "cell_type": "code",
   "execution_count": 1,
   "metadata": {},
   "outputs": [],
   "source": [
    "# Develop logic to checks whether an integer is even or odd.\n",
    "n = 11 # Test with negative number or 0\n"
   ]
  },
  {
   "cell_type": "code",
   "execution_count": null,
   "metadata": {},
   "outputs": [],
   "source": [
    "if int(n) <= 0:\n",
    "    print(f'{n} is not positive integer')\n",
    "elif int(n) % 2 == 0:\n",
    "    print(f'{n} is even integer')\n",
    "else:\n",
    "    print(f'{n} is odd integer')"
   ]
  },
  {
   "cell_type": "code",
   "execution_count": null,
   "metadata": {},
   "outputs": [],
   "source": [
    "# Check if string is palindrome or not.\n",
    "s = input('Enter a string: ')\n"
   ]
  },
  {
   "cell_type": "code",
   "execution_count": null,
   "metadata": {},
   "outputs": [],
   "source": [
    "if s == None or s == '':\n",
    "    print('String is empty')\n",
    "elif list(reversed(s)) != list(s):\n",
    "    print(f'{s} is not a palindrome')\n",
    "else:\n",
    "    print(f'{s} is a palindrome')"
   ]
  },
  {
   "cell_type": "code",
   "execution_count": null,
   "metadata": {},
   "outputs": [],
   "source": [
    "# Ternary Operator or single like if else\n",
    "\n",
    "n = 10\n",
    "True if n % 2 == 0 else False"
   ]
  },
  {
   "attachments": {},
   "cell_type": "markdown",
   "metadata": {},
   "source": [
    "* Exercise 1 - Check if the number is positive integer and also if it is divisible by 2 or 3.\n",
    "  * If all the conditions satisfy, print \"{n} is positive integer and is divisible by 2 or 3\"\n",
    "  * If any of the conditions fail, print \"{n} is not a valid number\""
   ]
  },
  {
   "attachments": {},
   "cell_type": "markdown",
   "metadata": {},
   "source": [
    "* Exercise 2 - Check whether candidate is \"failed\" or \"just passed\" or \"passed with distinciton\".\n",
    "  * If score <= 50, failed\n",
    "  * If score > 50 and score <= 80, \"just passed\"\n",
    "  * Otherwise \"passed with distinction\""
   ]
  },
  {
   "attachments": {},
   "cell_type": "markdown",
   "metadata": {},
   "source": [
    "* Exercise 3 - Leap Year\n",
    "\n",
    "Accept an integer value using input and assign to variable by name year. If year is negative or 0 print \"Entered year {year} is invalid\", if year is positive apply below logic to determine leap year. If it is leap year print \"Entered year {year} is leap year\", if not print \"Entered year {year} is not leap year\".\n",
    "\n",
    "Leap Year Formulla: \n",
    "To be a leap year, the year number must be divisible by four – except for end-of-century years, which must be divisible by 400. This means that the year 2000 was a leap year, although 1900 was not. 2024, 2028, 2032 and 2036 are all leap years."
   ]
  }
 ],
 "metadata": {
  "kernelspec": {
   "display_name": "pb-venv",
   "language": "python",
   "name": "python3"
  },
  "language_info": {
   "codemirror_mode": {
    "name": "ipython",
    "version": 3
   },
   "file_extension": ".py",
   "mimetype": "text/x-python",
   "name": "python",
   "nbconvert_exporter": "python",
   "pygments_lexer": "ipython3",
   "version": "3.11.2"
  },
  "orig_nbformat": 4
 },
 "nbformat": 4,
 "nbformat_minor": 2
}
