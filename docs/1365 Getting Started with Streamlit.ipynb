{
 "cells": [
  {
   "cell_type": "markdown",
   "metadata": {},
   "source": [
    "* Overview of Reports and Dashboards\n",
    "* Getting Started with Streamlit\n",
    "* Generate Test Data for basic report\n",
    "* Build Streamlit Table using Test Data\n",
    "* Build Streamlit Line Chart using Test Data\n",
    "* Exercise and Solution - Build Streamlit Line and Bar Charts\n",
    "* Add Sidebar to the Streamlit App using Chat GPT"
   ]
  },
  {
   "cell_type": "markdown",
   "metadata": {},
   "source": [
    "* Overview of Reports and Dashboards\n",
    "\n",
    "1. Report can be a metric or a visualization.\n",
    "2. Dashboard is nothing but group of reports.\n",
    "3. We typically use BI tools such as Power BI, Tableau, etc to build sophisticated dashboards for enterprise customers.\n",
    "4. Python Open Source contributors provide inbuilt libraries such as streamlit, dash, etc to build sophisticated reports and dashboards.\n",
    "\n",
    "Note: The visualization capabilities of Pandas can be used for analysis, but cannot be used as an enterprise application with features such as multi user, security, etc."
   ]
  },
  {
   "cell_type": "markdown",
   "metadata": {},
   "source": [
    "* Getting Started with Streamlit\n",
    "\n",
    "1. Setup new project using VS Code - `streamlit-app`.\n",
    "2. Integrate with a new Python Virtual Environment - `sa-venv`.\n",
    "3. Activate and install Streamlit using `pip`.\n",
    "4. Review Streamlit CLI Commands.\n",
    "5. Run and Preview Streamlit Hello World app - `streamlit hello`."
   ]
  },
  {
   "cell_type": "markdown",
   "metadata": {},
   "source": [
    "* Generate Test Data for basic report\n",
    "\n",
    "Generate monthly data with collected revenue and outstanding revenue"
   ]
  },
  {
   "cell_type": "code",
   "execution_count": null,
   "metadata": {},
   "outputs": [],
   "source": [
    "import random"
   ]
  },
  {
   "cell_type": "code",
   "execution_count": null,
   "metadata": {},
   "outputs": [],
   "source": [
    "sales_data = []\n",
    "for i in range(202201, 202213):\n",
    "    rec = {\n",
    "        'sale_month': i,\n",
    "        'revenue_realized': random.randint(100, 150) * 1000,\n",
    "        'revenue_outstanding': random.randint(25, 50) * 1000\n",
    "    }\n",
    "    sales_data.append(rec)"
   ]
  },
  {
   "cell_type": "code",
   "execution_count": null,
   "metadata": {},
   "outputs": [],
   "source": [
    "sales_data"
   ]
  },
  {
   "cell_type": "markdown",
   "metadata": {},
   "source": [
    "* Build Streamlit Table using Test Data\n",
    "\n",
    "1. Use the test data and create Pandas Data Frame.\n",
    "2. Use streamlit to render table or data grid for the Data Frame\n",
    "\n",
    "```python\n",
    "import random\n",
    "from datetime import datetime as dt\n",
    "import pandas as pd\n",
    "import streamlit as st\n",
    "\n",
    "sales_data = []\n",
    "for i in range(202201, 202213):\n",
    "    rec = {\n",
    "        'sale_month': dt.strptime(str(i), '%Y%m').strftime('%Y-%m'),\n",
    "        'revenue_realized': random.randint(100, 150) * 1000,\n",
    "        'revenue_outstanding': random.randint(25, 50) * 1000\n",
    "    }\n",
    "    sales_data.append(rec)\n",
    "\n",
    "sales_df = pd.DataFrame(sales_data)\n",
    "\n",
    "st.table(sales_df)\n",
    "```\n",
    "\n",
    "3. Validate to see if the Table or Data Grid is rendered properly or not."
   ]
  },
  {
   "cell_type": "markdown",
   "metadata": {},
   "source": [
    "* Build Streamlit Line Chart using Test Data\n",
    "\n",
    "1. Generate Test Data and Create Pandas Data Frame.\n",
    "2. Use `st.line_chart` to create line chart using sale month and revenue realized\n",
    "\n",
    "Replace `st.table` code with below code to `app.py`.\n",
    "\n",
    "```python\n",
    "st.line_chart(sales_df, x='sale_month', y='revenue_realized', )\n",
    "```"
   ]
  },
  {
   "cell_type": "markdown",
   "metadata": {},
   "source": [
    "* Exercise - Build Streamlit Line and Bar Charts\n",
    "\n",
    "1. Create line chart for sale month on x-axis and revenue outstanding on y-axis.\n",
    "2. Add additional column to the data frame by name `revenue_total`. Revenue total is nothing but sum of `revenue_realized` and `revenue_oustanding` for each month.\n",
    "3. Create line chart for sale month on x-axis and revenue total on y-axis.\n",
    "4. Create bar chart for sale month on x-axis and revenue total on y-axis.\n",
    "5. Create stacked line chart for sale month on x-axis and revenue realized as well as revenue outstanding on y-axis."
   ]
  },
  {
   "cell_type": "markdown",
   "metadata": {},
   "source": [
    "* Solution - Build Streamlit Line and Bar Charts\n",
    "\n",
    "1. Create line chart for sale month on x-axis and revenue outstanding on y-axis.\n",
    "\n",
    "```python\n",
    "st.line_chart(sales_df, x='sale_month', y='revenue_outstanding')\n",
    "```\n",
    "\n",
    "2. Add additional column to the data frame by name `revenue_total`. Revenue total is nothing but sum of `revenue_realized` and `revenue_oustanding` for each month.\n",
    "\n",
    "```python\n",
    "sales_df['revenue_total'] = sales_df.apply(\n",
    "    lambda rec: rec['revenue_realized'] + rec['revenue_outstanding'],\n",
    "    axis=1\n",
    ")\n",
    "```\n",
    "\n",
    "3. Create line chart for sale month on x-axis and revenue total on y-axis.\n",
    "\n",
    "```python\n",
    "st.line_chart(sales_df, x='sale_month', y='revenue_total')\n",
    "```\n",
    "\n",
    "4. Create bar chart for sale month on x-axis and revenue total on y-axis.\n",
    "\n",
    "```python\n",
    "st.bar_chart(sales_df, x='sale_month', y='revenue_total')\n",
    "```\n",
    "\n",
    "5. Create stacked line chart for sale month on x-axis and revenue realized as well as revenue outstanding on y-axis.\n",
    "\n",
    "```python\n",
    "st.line_chart(sales_df, x='sale_month', y=['revenue_realized', 'revenue_outstanding'])\n",
    "```"
   ]
  },
  {
   "cell_type": "markdown",
   "metadata": {},
   "source": [
    "* Add Sidebar to the Streamlit App using Chat GPT\n",
    "\n",
    "1. Go to Chat GPT and place the request for sidebar logic using existing code as reference.\n",
    "2. Update the code in the application. Make sure to review the code and understand the logic added.\n",
    "3. Run and Validate the application."
   ]
  },
  {
   "cell_type": "code",
   "execution_count": null,
   "metadata": {},
   "outputs": [],
   "source": []
  }
 ],
 "metadata": {
  "kernelspec": {
   "display_name": "Python 3",
   "language": "python",
   "name": "python3"
  },
  "language_info": {
   "codemirror_mode": {
    "name": "ipython",
    "version": 3
   },
   "file_extension": ".py",
   "mimetype": "text/x-python",
   "name": "python",
   "nbconvert_exporter": "python",
   "pygments_lexer": "ipython3",
   "version": "2.7.undefined"
  },
  "orig_nbformat": 4
 },
 "nbformat": 4,
 "nbformat_minor": 2
}
